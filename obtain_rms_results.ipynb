{
 "cells": [
  {
   "cell_type": "markdown",
   "metadata": {},
   "source": [
    "Ta skripta se uporablja za pridobitev rezultatov dinamičnih simulacij."
   ]
  },
  {
   "cell_type": "code",
   "execution_count": 1,
   "metadata": {},
   "outputs": [
    {
     "name": "stdout",
     "output_type": "stream",
     "text": [
      "PowerFactory application started successfully!\n",
      "Project SLO_EES_2024_projekt_SSSC successfully activated\n"
     ]
    }
   ],
   "source": [
    "%load_ext autoreload\n",
    "%autoreload 2\n",
    "import sys\n",
    "import os\n",
    "sys.path.append(os.path.join(os.getcwd(), \"..\")) # Add the parent directory to the path\n",
    "\n",
    "# Import the PowerFactory API\n",
    "from pf_python_api import PowerFactoryApp\n",
    "\n",
    "# Select the project to open (can also be opened from the GUI when it starts)\n",
    "project_name = \"SLO_EES_2024_projekt_SSSC\"\n",
    "\n",
    "# Start PowerFactory, load the project and show the GUI (non-interactive mode)\n",
    "app = PowerFactoryApp()\n",
    "app.activate_project(project_name)\n",
    "app.show_gui()"
   ]
  },
  {
   "cell_type": "code",
   "execution_count": 2,
   "metadata": {},
   "outputs": [
    {
     "name": "stdout",
     "output_type": "stream",
     "text": [
      "Ime Rezultatov:  All calculations\n"
     ]
    }
   ],
   "source": [
    "# Get the ElmRes object\n",
    "elmRes = app.get_calc_relevant_objects(\"*All calculations.ElmRes\")[0]\n",
    "print(\"Ime Rezultatov: \", elmRes.GetAttribute(\"loc_name\"))"
   ]
  },
  {
   "cell_type": "code",
   "execution_count": null,
   "metadata": {},
   "outputs": [
    {
     "name": "stdout",
     "output_type": "stream",
     "text": [
      "All generators:  126\n",
      "Active Generators:  56\n",
      "Ordered Generators:  56\n",
      "SLO Generators:  18\n"
     ]
    }
   ],
   "source": [
    "from typing import List\n",
    "from powerfactory import DataObject\n",
    "\n",
    "# Obtain all generators\n",
    "all_generators = app.app.GetCalcRelevantObjects(\"*.ElmSym\", 1, 1, 1)\n",
    "print(\"All generators: \", len(all_generators))\n",
    "\n",
    "# Obtain only energized generators\n",
    "generators: List[DataObject] = []\n",
    "for gen in all_generators:\n",
    "    if gen.GetAttribute(\"outserv\") == 1:\n",
    "        continue\n",
    "    if gen.IsEnergized() != 1:\n",
    "        continue\n",
    "    generators.append(gen)\n",
    "print(\"Active Generators: \", len(generators))\n",
    "\n",
    "# UPDATE Generators order to match Tadej's order\n",
    "import pandas as pd\n",
    "data = pd.read_excel('Vrstni_red_GEN.xlsx')\n",
    "pf_names = data['PF_NAME'].values\n",
    "area = data['AREA'].values\n",
    "\n",
    "# Filter and reorder generators to match the order from pf_names\n",
    "ordered_generators = [gen for name in pf_names for gen in generators if gen.GetAttribute(\"loc_name\") == name]\n",
    "print(\"Ordered Generators: \", len(ordered_generators))\n",
    "\n",
    "# Get list of names where area is \"SLO\"\n",
    "slo_names = [name for name, a in zip(pf_names, area) if a == \"SLO\"]\n",
    "\n",
    "# Filter ordered_generators to include only those with \"SLO\" under area\n",
    "slo_generators = [gen for name in slo_names for gen in generators if gen.GetAttribute(\"loc_name\") == name]\n",
    "print(\"SLO Generators: \", len(slo_generators))"
   ]
  },
  {
   "cell_type": "code",
   "execution_count": null,
   "metadata": {},
   "outputs": [
    {
     "name": "stdout",
     "output_type": "stream",
     "text": [
      "Ime Rezultatov:  Izvoz RoCof Martin\n"
     ]
    }
   ],
   "source": [
    "'''\n",
    "Prepare the ElmRes object for the results\n",
    "'''\n",
    "# Obtain the ElmRes object\n",
    "elmRes = app.get_calc_relevant_objects(\"*Izvoz RoCof Martin.ElmRes\")[0]\n",
    "print(\"Ime Rezultatov: \", elmRes.GetAttribute(\"loc_name\"))\n",
    "\n",
    "# Add required variables to the ElmRes object for each generator\n",
    "for gen in generators:\n",
    "    obj = elmRes.CreateObject(\"IntMon\")\n",
    "    obj.SetAttribute(\"loc_name\", gen.GetAttribute(\"loc_name\"))\n",
    "    obj.SetAttribute(\"obj_id\", gen)\n",
    "    selected_variables = [\"s:P1\"]\n",
    "    obj.SetAttribute(\"vars\", selected_variables)"
   ]
  },
  {
   "cell_type": "code",
   "execution_count": 5,
   "metadata": {},
   "outputs": [],
   "source": [
    "# DISABLE ALL CURRENT SIMULATION EVENTS (set as out of service)\n",
    "active = app.app.GetActiveStudyCase()\n",
    "eventFolder: DataObject = next((con for con in active.GetContents() if con.loc_name == \"Simulation Events/Fault\"))\n",
    "simulation_events: List[DataObject] = eventFolder.GetContents()\n",
    "for event in simulation_events:\n",
    "    event.SetAttribute(\"outserv\", 1)"
   ]
  },
  {
   "cell_type": "code",
   "execution_count": 6,
   "metadata": {},
   "outputs": [
    {
     "name": "stdout",
     "output_type": "stream",
     "text": [
      "Processing generator outage for generator nr. 1: Doblar G2\n",
      "Processing generator outage for generator nr. 2: Plave G1\n",
      "Processing generator outage for generator nr. 3: Plave G2\n",
      "Processing generator outage for generator nr. 4: Solkan G1\n",
      "Processing generator outage for generator nr. 5: HE Moste G1\n",
      "Processing generator outage for generator nr. 6: Medvode G1\n",
      "Processing generator outage for generator nr. 7: Medvode G2\n",
      "Processing generator outage for generator nr. 8: Vrhovo G2\n",
      "Processing generator outage for generator nr. 9: Bostanj G3\n",
      "Processing generator outage for generator nr. 10: Blanca G3\n",
      "Processing generator outage for generator nr. 11: HE Krško G1\n",
      "Processing generator outage for generator nr. 12: Brezice G3\n",
      "Processing generator outage for generator nr. 13: Dravograd G1\n",
      "Processing generator outage for generator nr. 14: Vuzenica G2\n",
      "Processing generator outage for generator nr. 15: TEB_PB7\n",
      "Processing generator outage for generator nr. 16: TEŠ 6\n",
      "Processing generator outage for generator nr. 17: NEK\n",
      "Processing generator outage for generator nr. 18: TE-TOL G1\n",
      "Processing generator outage for generator nr. 19: GWUGLJE1\n",
      "Processing generator outage for generator nr. 20: GWTSVSG1\n",
      "Processing generator outage for generator nr. 21: GJRPMLA1\n",
      "Processing generator outage for generator nr. 22: GMPAKS01\n",
      "Processing generator outage for generator nr. 23: GIMFTV01\n",
      "Processing generator outage for generator nr. 24: GIFSNV01\n",
      "Processing generator outage for generator nr. 25: GIOSTM01\n",
      "Processing generator outage for generator nr. 26: GISFIM01\n",
      "Processing generator outage for generator nr. 27: GIEDOM01\n",
      "Processing generator outage for generator nr. 28: GIPCOF01\n",
      "Processing generator outage for generator nr. 29: GISERM01\n",
      "Processing generator outage for generator nr. 30: GIECRF01\n",
      "Processing generator outage for generator nr. 31: GIMTVM01\n",
      "Processing generator outage for generator nr. 32: GOOBERS2\n",
      "Processing generator outage for generator nr. 33: GOHESSE2\n",
      "Processing generator outage for generator nr. 34: GOPETER2\n",
      "Processing generator outage for generator nr. 35: GOASCHA2\n",
      "Processing generator outage for generator nr. 36: GODUERN2\n",
      "Processing generator outage for generator nr. 37: GOYBBSF2\n",
      "Processing generator outage for generator nr. 38: GOFEIST2\n",
      "Processing generator outage for generator nr. 39: GOSCHAE2\n",
      "Processing generator outage for generator nr. 40: GOKAPRU2\n",
      "Processing generator outage for generator nr. 41: GOMALTA2\n",
      "Processing generator outage for generator nr. 42: GOROSEG2\n",
      "Processing generator outage for generator nr. 43: GIMFTV02\n",
      "Processing generator outage for generator nr. 44: GHTEPLO2\n",
      "Processing generator outage for generator nr. 45: GHZAKUC2\n",
      "Processing generator outage for generator nr. 46: GHSENJ02\n",
      "Processing generator outage for generator nr. 47: GHORLOV2\n",
      "Processing generator outage for generator nr. 48: GWHECAP2\n",
      "Processing generator outage for generator nr. 49: GWTREBI2\n",
      "Processing generator outage for generator nr. 50: GWSALAK2\n",
      "Processing generator outage for generator nr. 51: GWHRAMA2\n",
      "Processing generator outage for generator nr. 52: GWTSTUZ2\n",
      "Processing generator outage for generator nr. 53: GWGRABO2\n",
      "Processing generator outage for generator nr. 54: GISOMVA2\n",
      "Processing generator outage for generator nr. 55: GIFADV02\n",
      "Processing generator outage for generator nr. 56: GISOVV02\n"
     ]
    }
   ],
   "source": [
    "import time\n",
    "\n",
    "iteration = 0\n",
    "created_events = []\n",
    "previous_event = None\n",
    "files_names = []\n",
    "\n",
    "for gen in ordered_generators:\n",
    "    iteration += 1\n",
    "\n",
    "    gen_name = gen.GetAttribute(\"loc_name\")\n",
    "    print(f\"Processing generator outage for generator nr. {iteration}: {gen_name}\")\n",
    "\n",
    "    # ====== 1. We define the SwitchEvent\n",
    "    new_event = eventFolder.CreateObject(\"EvtSwitch\")\n",
    "    new_event.SetAttribute(\"loc_name\", gen_name+\"_izpad\")\n",
    "    new_event.SetAttribute(\"p_target\", gen)\n",
    "    new_event.SetAttribute(\"time\", 2)\n",
    "    created_events.append(new_event)\n",
    "\n",
    "    # ====== 2. We run the simulation\n",
    "    # Calculate initial conditions\n",
    "    oInit = app.app.GetFromStudyCase('ComInc')  # Get initial condition calculation object\n",
    "    oInit.Execute()\n",
    "\n",
    "    # Run RMS-simulation\n",
    "    oRms = app.app.GetFromStudyCase('ComSim')   # Get RMS-simulation object\n",
    "    oRms.Execute()\n",
    "\n",
    "    # ====== 3. We delete the current event if it exists\n",
    "    if previous_event is not None:\n",
    "        deleted = previous_event.Delete()\n",
    "        if deleted == 0:\n",
    "            pass\n",
    "        else:\n",
    "            print(\"Failed to delete event: \", previous_event.GetAttribute(\"loc_name\"))\n",
    "    new_event.SetAttribute(\"outserv\", 1)\n",
    "\n",
    "    # ====== 4. We get the results\n",
    "    comRes = app.app.GetFromStudyCase(\"ComRes\")\n",
    "    comRes.pResult = elmRes         # Set ElmRes object to export from # type: ignore\n",
    "    comRes.iopt_exp = 6             # Set export to csv - 6 # type: ignore\n",
    "    comRes.iopt_sep = 0             # Set use the system seperator # type: ignore\n",
    "    comRes.iopt_honly = 0           # To export data and not only the head er # type:ignore\n",
    "    comRes.iopt_csel = 1            # Set export to only selected variables # type: ignore\n",
    "    comRes.numberPrecisionFixed = 8 # Set the number precision to 6 decimals # type: ignore\n",
    "    comRes.col_Sep = \";\"            # Set the column separator to ; # type: ignore\n",
    "    comRes.dec_Sep = \",\"            # Set the decimal separator to , # type: ignore\n",
    "\n",
    "    # Set File path and name \n",
    "    file_name = \"results_izpad_\" + gen_name + \".csv\"\n",
    "    files_names.append(file_name)\n",
    "    results_folder = r\"C:\\Projects\\PowerFactory\\slovenia_ees\\rms_results\\martin_scenario\"\n",
    "    if not os.path.exists(results_folder):\n",
    "        os.makedirs(results_folder)\n",
    "    file_path = os.path.join(results_folder, file_name)\n",
    "    comRes.f_name = file_path # type: ignore\n",
    "\n",
    "    resultObject = [None] # type: ignore\n",
    "    elements = [elmRes] # type: ignore\n",
    "    variable = [\"b:tnow\"] # type: ignore\n",
    "\n",
    "    for gen in generators:\n",
    "        resultObject.append(None)\n",
    "        elements.append(gen)\n",
    "        variable.append(\"s:P1\")\n",
    "    \n",
    "    # Set the selected variables\n",
    "    comRes.resultobj = resultObject # Export selected # type: ignore\n",
    "    comRes.element = elements # type: ignore\n",
    "    comRes.variable = variable # type: ignore\n",
    "\n",
    "    # Export the results\n",
    "    comRes.Execute() # type: ignore \n",
    "\n",
    "    # Await for the file to be accessible\n",
    "    while not os.path.exists(file_path):\n",
    "        time.sleep(0.1)\n",
    "\n",
    "    # ====== 5. We disable the SwitchEvent (set to out of service here as cannot delete, will be deleted in the next iteration)\n",
    "    new_event.SetAttribute(\"outserv\", 1)\n",
    "    previous_event = new_event\n",
    "\n",
    "    app.app.ClearOutputWindow()"
   ]
  }
 ],
 "metadata": {
  "kernelspec": {
   "display_name": "venv",
   "language": "python",
   "name": "python3"
  },
  "language_info": {
   "codemirror_mode": {
    "name": "ipython",
    "version": 3
   },
   "file_extension": ".py",
   "mimetype": "text/x-python",
   "name": "python",
   "nbconvert_exporter": "python",
   "pygments_lexer": "ipython3",
   "version": "3.12.0"
  }
 },
 "nbformat": 4,
 "nbformat_minor": 2
}
